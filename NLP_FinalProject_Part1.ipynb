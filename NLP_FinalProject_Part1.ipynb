{
  "nbformat": 4,
  "nbformat_minor": 0,
  "metadata": {
    "colab": {
      "provenance": [],
      "collapsed_sections": [
        "ofzepR0OGs78",
        "cJNZiVxRIyow",
        "X6l6Q13jOvUv",
        "7RA35wjhReVW",
        "51JvBJh9USNc",
        "Invwbe4dW7qY"
      ]
    },
    "kernelspec": {
      "name": "python3",
      "display_name": "Python 3"
    },
    "language_info": {
      "name": "python"
    }
  },
  "cells": [
    {
      "cell_type": "markdown",
      "source": [
        "# Setup and Data Exploration - AI vs Human Text Classification"
      ],
      "metadata": {
        "id": "6eYXttSPGTha"
      }
    },
    {
      "cell_type": "markdown",
      "source": [
        "### First we will start by setting up the environment and loading the raw dataset. After that we will perform some advance exploratory data analysis to understand the nature of the dataset."
      ],
      "metadata": {
        "id": "3csa1xi7GWYm"
      }
    },
    {
      "cell_type": "markdown",
      "source": [
        "## Setting up The environment and loading the data"
      ],
      "metadata": {
        "id": "ofzepR0OGs78"
      }
    },
    {
      "cell_type": "code",
      "execution_count": 1,
      "metadata": {
        "colab": {
          "base_uri": "https://localhost:8080/",
          "height": 0
        },
        "id": "TolYJNrhGLzy",
        "outputId": "4078fa93-321d-43c5-9b7a-c96659a7d9f6"
      },
      "outputs": [
        {
          "output_type": "stream",
          "name": "stdout",
          "text": [
            "\u001b[2K     \u001b[90m━━━━━━━━━━━━━━━━━━━━━━━━━━━━━━━━━━━━━━━━\u001b[0m \u001b[32m12.8/12.8 MB\u001b[0m \u001b[31m35.7 MB/s\u001b[0m eta \u001b[36m0:00:00\u001b[0m\n",
            "\u001b[?25h\u001b[38;5;2m✔ Download and installation successful\u001b[0m\n",
            "You can now load the package via spacy.load('en_core_web_sm')\n",
            "\u001b[38;5;3m⚠ Restart to reload dependencies\u001b[0m\n",
            "If you are in a Jupyter or Colab notebook, you may need to restart Python in\n",
            "order to load all the package's dependencies. You can do this by selecting the\n",
            "'Restart kernel' or 'Restart runtime' option.\n"
          ]
        }
      ],
      "source": [
        "!pip install nltk spacy --quiet\n",
        "!python -m spacy download en_core_web_sm --quiet"
      ]
    },
    {
      "cell_type": "code",
      "source": [
        "import pandas as pd\n",
        "import numpy as np\n",
        "import matplotlib.pyplot as plt\n",
        "import seaborn as sns\n",
        "import nltk\n",
        "import string\n",
        "import spacy\n",
        "\n",
        "from nltk.tokenize import word_tokenize\n",
        "from nltk.corpus import stopwords\n",
        "from nltk.stem import PorterStemmer, WordNetLemmatizer\n",
        "\n",
        "# NLTK downloads\n",
        "nltk.download('punkt')\n",
        "nltk.download('stopwords')\n",
        "nltk.download('wordnet')\n",
        "nltk.download('punkt_tab')"
      ],
      "metadata": {
        "colab": {
          "base_uri": "https://localhost:8080/",
          "height": 0
        },
        "id": "JyrfsVYHG66D",
        "outputId": "02819969-f226-415e-b4d9-2503f8a179a6"
      },
      "execution_count": 2,
      "outputs": [
        {
          "output_type": "stream",
          "name": "stderr",
          "text": [
            "[nltk_data] Downloading package punkt to /root/nltk_data...\n",
            "[nltk_data]   Package punkt is already up-to-date!\n",
            "[nltk_data] Downloading package stopwords to /root/nltk_data...\n",
            "[nltk_data]   Package stopwords is already up-to-date!\n",
            "[nltk_data] Downloading package wordnet to /root/nltk_data...\n",
            "[nltk_data]   Package wordnet is already up-to-date!\n",
            "[nltk_data] Downloading package punkt_tab to /root/nltk_data...\n",
            "[nltk_data]   Package punkt_tab is already up-to-date!\n"
          ]
        },
        {
          "output_type": "execute_result",
          "data": {
            "text/plain": [
              "True"
            ]
          },
          "metadata": {},
          "execution_count": 2
        }
      ]
    },
    {
      "cell_type": "code",
      "source": [
        "from google.colab import drive\n",
        "drive.mount('/content/drive')\n",
        "\n",
        "raw_df = pd.read_csv('/content/drive/MyDrive/Colab Notebooks/AI_Human.csv')\n",
        "\n",
        "print(\"\\nDataset shape:\", raw_df.shape)\n",
        "print(\"\\nColumns:\", raw_df.columns)\n",
        "print(\"\\n=== Info ===\")\n",
        "raw_df.info()"
      ],
      "metadata": {
        "colab": {
          "base_uri": "https://localhost:8080/",
          "height": 0
        },
        "id": "h_A6rzjlG9Js",
        "outputId": "accd4086-47e4-4528-c6b2-8fe772deb920"
      },
      "execution_count": 3,
      "outputs": [
        {
          "output_type": "stream",
          "name": "stdout",
          "text": [
            "Drive already mounted at /content/drive; to attempt to forcibly remount, call drive.mount(\"/content/drive\", force_remount=True).\n",
            "\n",
            "Dataset shape: (487235, 2)\n",
            "\n",
            "Columns: Index(['text', 'generated'], dtype='object')\n",
            "\n",
            "=== Info ===\n",
            "<class 'pandas.core.frame.DataFrame'>\n",
            "RangeIndex: 487235 entries, 0 to 487234\n",
            "Data columns (total 2 columns):\n",
            " #   Column     Non-Null Count   Dtype  \n",
            "---  ------     --------------   -----  \n",
            " 0   text       487235 non-null  object \n",
            " 1   generated  487235 non-null  float64\n",
            "dtypes: float64(1), object(1)\n",
            "memory usage: 7.4+ MB\n"
          ]
        }
      ]
    },
    {
      "cell_type": "code",
      "source": [
        "print(\"\\n=== head ===\")\n",
        "raw_df.head()"
      ],
      "metadata": {
        "colab": {
          "base_uri": "https://localhost:8080/",
          "height": 242
        },
        "id": "_5gajuHaIHOl",
        "outputId": "eb50a14f-5238-4a75-c02c-bed0e8ca9f14"
      },
      "execution_count": 4,
      "outputs": [
        {
          "output_type": "stream",
          "name": "stdout",
          "text": [
            "\n",
            "=== head ===\n"
          ]
        },
        {
          "output_type": "execute_result",
          "data": {
            "text/plain": [
              "                                                text  generated\n",
              "0  Cars. Cars have been around since they became ...        0.0\n",
              "1  Transportation is a large necessity in most co...        0.0\n",
              "2  \"America's love affair with it's vehicles seem...        0.0\n",
              "3  How often do you ride in a car? Do you drive a...        0.0\n",
              "4  Cars are a wonderful thing. They are perhaps o...        0.0"
            ],
            "text/html": [
              "\n",
              "  <div id=\"df-a913d42e-1443-4c96-864e-947fb4f24917\" class=\"colab-df-container\">\n",
              "    <div>\n",
              "<style scoped>\n",
              "    .dataframe tbody tr th:only-of-type {\n",
              "        vertical-align: middle;\n",
              "    }\n",
              "\n",
              "    .dataframe tbody tr th {\n",
              "        vertical-align: top;\n",
              "    }\n",
              "\n",
              "    .dataframe thead th {\n",
              "        text-align: right;\n",
              "    }\n",
              "</style>\n",
              "<table border=\"1\" class=\"dataframe\">\n",
              "  <thead>\n",
              "    <tr style=\"text-align: right;\">\n",
              "      <th></th>\n",
              "      <th>text</th>\n",
              "      <th>generated</th>\n",
              "    </tr>\n",
              "  </thead>\n",
              "  <tbody>\n",
              "    <tr>\n",
              "      <th>0</th>\n",
              "      <td>Cars. Cars have been around since they became ...</td>\n",
              "      <td>0.0</td>\n",
              "    </tr>\n",
              "    <tr>\n",
              "      <th>1</th>\n",
              "      <td>Transportation is a large necessity in most co...</td>\n",
              "      <td>0.0</td>\n",
              "    </tr>\n",
              "    <tr>\n",
              "      <th>2</th>\n",
              "      <td>\"America's love affair with it's vehicles seem...</td>\n",
              "      <td>0.0</td>\n",
              "    </tr>\n",
              "    <tr>\n",
              "      <th>3</th>\n",
              "      <td>How often do you ride in a car? Do you drive a...</td>\n",
              "      <td>0.0</td>\n",
              "    </tr>\n",
              "    <tr>\n",
              "      <th>4</th>\n",
              "      <td>Cars are a wonderful thing. They are perhaps o...</td>\n",
              "      <td>0.0</td>\n",
              "    </tr>\n",
              "  </tbody>\n",
              "</table>\n",
              "</div>\n",
              "    <div class=\"colab-df-buttons\">\n",
              "\n",
              "  <div class=\"colab-df-container\">\n",
              "    <button class=\"colab-df-convert\" onclick=\"convertToInteractive('df-a913d42e-1443-4c96-864e-947fb4f24917')\"\n",
              "            title=\"Convert this dataframe to an interactive table.\"\n",
              "            style=\"display:none;\">\n",
              "\n",
              "  <svg xmlns=\"http://www.w3.org/2000/svg\" height=\"24px\" viewBox=\"0 -960 960 960\">\n",
              "    <path d=\"M120-120v-720h720v720H120Zm60-500h600v-160H180v160Zm220 220h160v-160H400v160Zm0 220h160v-160H400v160ZM180-400h160v-160H180v160Zm440 0h160v-160H620v160ZM180-180h160v-160H180v160Zm440 0h160v-160H620v160Z\"/>\n",
              "  </svg>\n",
              "    </button>\n",
              "\n",
              "  <style>\n",
              "    .colab-df-container {\n",
              "      display:flex;\n",
              "      gap: 12px;\n",
              "    }\n",
              "\n",
              "    .colab-df-convert {\n",
              "      background-color: #E8F0FE;\n",
              "      border: none;\n",
              "      border-radius: 50%;\n",
              "      cursor: pointer;\n",
              "      display: none;\n",
              "      fill: #1967D2;\n",
              "      height: 32px;\n",
              "      padding: 0 0 0 0;\n",
              "      width: 32px;\n",
              "    }\n",
              "\n",
              "    .colab-df-convert:hover {\n",
              "      background-color: #E2EBFA;\n",
              "      box-shadow: 0px 1px 2px rgba(60, 64, 67, 0.3), 0px 1px 3px 1px rgba(60, 64, 67, 0.15);\n",
              "      fill: #174EA6;\n",
              "    }\n",
              "\n",
              "    .colab-df-buttons div {\n",
              "      margin-bottom: 4px;\n",
              "    }\n",
              "\n",
              "    [theme=dark] .colab-df-convert {\n",
              "      background-color: #3B4455;\n",
              "      fill: #D2E3FC;\n",
              "    }\n",
              "\n",
              "    [theme=dark] .colab-df-convert:hover {\n",
              "      background-color: #434B5C;\n",
              "      box-shadow: 0px 1px 3px 1px rgba(0, 0, 0, 0.15);\n",
              "      filter: drop-shadow(0px 1px 2px rgba(0, 0, 0, 0.3));\n",
              "      fill: #FFFFFF;\n",
              "    }\n",
              "  </style>\n",
              "\n",
              "    <script>\n",
              "      const buttonEl =\n",
              "        document.querySelector('#df-a913d42e-1443-4c96-864e-947fb4f24917 button.colab-df-convert');\n",
              "      buttonEl.style.display =\n",
              "        google.colab.kernel.accessAllowed ? 'block' : 'none';\n",
              "\n",
              "      async function convertToInteractive(key) {\n",
              "        const element = document.querySelector('#df-a913d42e-1443-4c96-864e-947fb4f24917');\n",
              "        const dataTable =\n",
              "          await google.colab.kernel.invokeFunction('convertToInteractive',\n",
              "                                                    [key], {});\n",
              "        if (!dataTable) return;\n",
              "\n",
              "        const docLinkHtml = 'Like what you see? Visit the ' +\n",
              "          '<a target=\"_blank\" href=https://colab.research.google.com/notebooks/data_table.ipynb>data table notebook</a>'\n",
              "          + ' to learn more about interactive tables.';\n",
              "        element.innerHTML = '';\n",
              "        dataTable['output_type'] = 'display_data';\n",
              "        await google.colab.output.renderOutput(dataTable, element);\n",
              "        const docLink = document.createElement('div');\n",
              "        docLink.innerHTML = docLinkHtml;\n",
              "        element.appendChild(docLink);\n",
              "      }\n",
              "    </script>\n",
              "  </div>\n",
              "\n",
              "\n",
              "    <div id=\"df-c224abbd-5f40-44a8-b066-bc0e231d4c2d\">\n",
              "      <button class=\"colab-df-quickchart\" onclick=\"quickchart('df-c224abbd-5f40-44a8-b066-bc0e231d4c2d')\"\n",
              "                title=\"Suggest charts\"\n",
              "                style=\"display:none;\">\n",
              "\n",
              "<svg xmlns=\"http://www.w3.org/2000/svg\" height=\"24px\"viewBox=\"0 0 24 24\"\n",
              "     width=\"24px\">\n",
              "    <g>\n",
              "        <path d=\"M19 3H5c-1.1 0-2 .9-2 2v14c0 1.1.9 2 2 2h14c1.1 0 2-.9 2-2V5c0-1.1-.9-2-2-2zM9 17H7v-7h2v7zm4 0h-2V7h2v10zm4 0h-2v-4h2v4z\"/>\n",
              "    </g>\n",
              "</svg>\n",
              "      </button>\n",
              "\n",
              "<style>\n",
              "  .colab-df-quickchart {\n",
              "      --bg-color: #E8F0FE;\n",
              "      --fill-color: #1967D2;\n",
              "      --hover-bg-color: #E2EBFA;\n",
              "      --hover-fill-color: #174EA6;\n",
              "      --disabled-fill-color: #AAA;\n",
              "      --disabled-bg-color: #DDD;\n",
              "  }\n",
              "\n",
              "  [theme=dark] .colab-df-quickchart {\n",
              "      --bg-color: #3B4455;\n",
              "      --fill-color: #D2E3FC;\n",
              "      --hover-bg-color: #434B5C;\n",
              "      --hover-fill-color: #FFFFFF;\n",
              "      --disabled-bg-color: #3B4455;\n",
              "      --disabled-fill-color: #666;\n",
              "  }\n",
              "\n",
              "  .colab-df-quickchart {\n",
              "    background-color: var(--bg-color);\n",
              "    border: none;\n",
              "    border-radius: 50%;\n",
              "    cursor: pointer;\n",
              "    display: none;\n",
              "    fill: var(--fill-color);\n",
              "    height: 32px;\n",
              "    padding: 0;\n",
              "    width: 32px;\n",
              "  }\n",
              "\n",
              "  .colab-df-quickchart:hover {\n",
              "    background-color: var(--hover-bg-color);\n",
              "    box-shadow: 0 1px 2px rgba(60, 64, 67, 0.3), 0 1px 3px 1px rgba(60, 64, 67, 0.15);\n",
              "    fill: var(--button-hover-fill-color);\n",
              "  }\n",
              "\n",
              "  .colab-df-quickchart-complete:disabled,\n",
              "  .colab-df-quickchart-complete:disabled:hover {\n",
              "    background-color: var(--disabled-bg-color);\n",
              "    fill: var(--disabled-fill-color);\n",
              "    box-shadow: none;\n",
              "  }\n",
              "\n",
              "  .colab-df-spinner {\n",
              "    border: 2px solid var(--fill-color);\n",
              "    border-color: transparent;\n",
              "    border-bottom-color: var(--fill-color);\n",
              "    animation:\n",
              "      spin 1s steps(1) infinite;\n",
              "  }\n",
              "\n",
              "  @keyframes spin {\n",
              "    0% {\n",
              "      border-color: transparent;\n",
              "      border-bottom-color: var(--fill-color);\n",
              "      border-left-color: var(--fill-color);\n",
              "    }\n",
              "    20% {\n",
              "      border-color: transparent;\n",
              "      border-left-color: var(--fill-color);\n",
              "      border-top-color: var(--fill-color);\n",
              "    }\n",
              "    30% {\n",
              "      border-color: transparent;\n",
              "      border-left-color: var(--fill-color);\n",
              "      border-top-color: var(--fill-color);\n",
              "      border-right-color: var(--fill-color);\n",
              "    }\n",
              "    40% {\n",
              "      border-color: transparent;\n",
              "      border-right-color: var(--fill-color);\n",
              "      border-top-color: var(--fill-color);\n",
              "    }\n",
              "    60% {\n",
              "      border-color: transparent;\n",
              "      border-right-color: var(--fill-color);\n",
              "    }\n",
              "    80% {\n",
              "      border-color: transparent;\n",
              "      border-right-color: var(--fill-color);\n",
              "      border-bottom-color: var(--fill-color);\n",
              "    }\n",
              "    90% {\n",
              "      border-color: transparent;\n",
              "      border-bottom-color: var(--fill-color);\n",
              "    }\n",
              "  }\n",
              "</style>\n",
              "\n",
              "      <script>\n",
              "        async function quickchart(key) {\n",
              "          const quickchartButtonEl =\n",
              "            document.querySelector('#' + key + ' button');\n",
              "          quickchartButtonEl.disabled = true;  // To prevent multiple clicks.\n",
              "          quickchartButtonEl.classList.add('colab-df-spinner');\n",
              "          try {\n",
              "            const charts = await google.colab.kernel.invokeFunction(\n",
              "                'suggestCharts', [key], {});\n",
              "          } catch (error) {\n",
              "            console.error('Error during call to suggestCharts:', error);\n",
              "          }\n",
              "          quickchartButtonEl.classList.remove('colab-df-spinner');\n",
              "          quickchartButtonEl.classList.add('colab-df-quickchart-complete');\n",
              "        }\n",
              "        (() => {\n",
              "          let quickchartButtonEl =\n",
              "            document.querySelector('#df-c224abbd-5f40-44a8-b066-bc0e231d4c2d button');\n",
              "          quickchartButtonEl.style.display =\n",
              "            google.colab.kernel.accessAllowed ? 'block' : 'none';\n",
              "        })();\n",
              "      </script>\n",
              "    </div>\n",
              "\n",
              "    </div>\n",
              "  </div>\n"
            ],
            "application/vnd.google.colaboratory.intrinsic+json": {
              "type": "dataframe",
              "variable_name": "raw_df"
            }
          },
          "metadata": {},
          "execution_count": 4
        }
      ]
    },
    {
      "cell_type": "code",
      "source": [
        "# Checking if any data is missing:\n",
        "\n",
        "# Checking for empty rows in the DataFrame\n",
        "empty_rows = raw_df.isnull().any(axis=1) | (raw_df == '').any(axis=1)\n",
        "\n",
        "# Counting empty rows\n",
        "num_empty_rows = empty_rows.sum()\n",
        "\n",
        "print(f\"Number of empty rows: {num_empty_rows}\")\n",
        "\n",
        "if num_empty_rows > 0:\n",
        "    print(\"Empty rows found at indices:\")\n",
        "    print(raw_df[empty_rows].index.tolist())\n",
        "else:\n",
        "    print(\"No empty rows found.\")"
      ],
      "metadata": {
        "colab": {
          "base_uri": "https://localhost:8080/",
          "height": 0
        },
        "id": "hgz4sVDNIgDm",
        "outputId": "37db5159-fef3-42bb-992c-b02f55b3c890"
      },
      "execution_count": 5,
      "outputs": [
        {
          "output_type": "stream",
          "name": "stdout",
          "text": [
            "Number of empty rows: 0\n",
            "No empty rows found.\n"
          ]
        }
      ]
    },
    {
      "cell_type": "markdown",
      "source": [
        "## Exploratory Data Analysis (EDA)"
      ],
      "metadata": {
        "id": "cJNZiVxRIyow"
      }
    },
    {
      "cell_type": "code",
      "source": [
        "# 1. Class distribution\n",
        "\n",
        "plt.figure(figsize=(6,4))\n",
        "sns.countplot(data=raw_df, x='generated')\n",
        "plt.title(\"Class Distribution (0=Human, 1=AI)\")\n",
        "plt.show()"
      ],
      "metadata": {
        "colab": {
          "base_uri": "https://localhost:8080/",
          "height": 410
        },
        "id": "f8nY3xrUIw8-",
        "outputId": "da17ec08-947b-475c-8f91-4646e9ed7bc5"
      },
      "execution_count": 6,
      "outputs": [
        {
          "output_type": "display_data",
          "data": {
            "text/plain": [
              "<Figure size 600x400 with 1 Axes>"
            ],
            "image/png": "[encoded data removed]"
          },
          "metadata": {}
        }
      ]
    },
    {
      "cell_type": "markdown",
      "source": [
        "From the plot it should be noted that the dataset is imbalanced. There are significantly more human generated texts than AI generated ones."
      ],
      "metadata": {
        "id": "s5TZvD3KJFCv"
      }
    },
    {
      "cell_type": "code",
      "source": [
        "# 2. Text Length Distribution\n",
        "\n",
        "raw_df['text_length'] = raw_df['text'].apply(lambda x: len(str(x).split()))\n",
        "raw_df['char_length'] = raw_df['text'].apply(lambda x: len(str(x)))\n",
        "\n",
        "plt.figure(figsize=(10,4))\n",
        "sns.histplot(raw_df['text_length'], bins=50, kde=True)\n",
        "plt.title(\"Distribution of Text Length (by Word Count)\")\n",
        "plt.show()\n",
        "\n",
        "plt.figure(figsize=(10,4))\n",
        "sns.histplot(raw_df['char_length'], bins=50, kde=True, color='orange')\n",
        "plt.title(\"Distribution of Text Length (by Character Count)\")\n",
        "plt.show()"
      ],
      "metadata": {
        "colab": {
          "base_uri": "https://localhost:8080/",
          "height": 803
        },
        "id": "FtTGXl8xJe4P",
        "outputId": "6600139a-aba8-4177-b758-6657d29f76ae"
      },
      "execution_count": 7,
      "outputs": [
        {
          "output_type": "display_data",
          "data": {
            "text/plain": [
              "<Figure size 1000x400 with 1 Axes>"
            ],
            "image/png": "[encoded data removed]"
          },
          "metadata": {}
        },
        {
          "output_type": "display_data",
          "data": {
            "text/plain": [
              "<Figure size 1000x400 with 1 Axes>"
            ],
            "image/png": "[encoded data removed]"
          },
          "metadata": {}
        }
      ]
    },
    {
      "cell_type": "markdown",
      "source": [
        "The above graph indicates that most of the texts are relatively short. However, this does not provide any insight about the difference in text lenght of Human generated Texts and AI generated Texts. Lets find that out next!"
      ],
      "metadata": {
        "id": "LTY_k5enKkCY"
      }
    },
    {
      "cell_type": "code",
      "source": [
        "# 3. Distribution of Text Length by Class (Word Count)\n",
        "\n",
        "raw_df['word_count'] = raw_df['text'].astype(str).apply(lambda x: len(x.split()))\n",
        "\n",
        "human_text_lengths = raw_df[raw_df['generated'] == 0]['word_count']\n",
        "ai_text_lengths = raw_df[raw_df['generated'] == 1]['word_count']\n",
        "\n",
        "plt.figure(figsize=(10, 6))\n",
        "\n",
        "# Plot KDE for human-generated texts\n",
        "sns.kdeplot(human_text_lengths, label='Human (0)', fill=True, color='blue', common_norm=False)\n",
        "\n",
        "# Plot KDE for AI-generated texts\n",
        "sns.kdeplot(ai_text_lengths, label='AI-generated (1)', fill=True, color='orange', common_norm=False)\n",
        "\n",
        "plt.title(\"Distribution of Text Length by Class (Word Count)\")\n",
        "plt.xlabel(\"Word Count\")\n",
        "plt.ylabel(\"Density\")\n",
        "plt.legend()\n",
        "plt.show()"
      ],
      "metadata": {
        "colab": {
          "base_uri": "https://localhost:8080/",
          "height": 564
        },
        "id": "al62b4EVK84a",
        "outputId": "a11b5f03-dcca-45af-e7ae-a8bab544b36b"
      },
      "execution_count": 8,
      "outputs": [
        {
          "output_type": "display_data",
          "data": {
            "text/plain": [
              "<Figure size 1000x600 with 1 Axes>"
            ],
            "image/png": "[encoded data removed]"
          },
          "metadata": {}
        }
      ]
    },
    {
      "cell_type": "markdown",
      "source": [
        "The plot shows that length could be a distinguishing feature of the two classes. While AI-generated texts are long, many were shorter and more closely clustered than human-generated texts and this might be a pattern in the distribution that our baseline model might learn."
      ],
      "metadata": {
        "id": "I0UurM1tLyb9"
      }
    },
    {
      "cell_type": "markdown",
      "source": [
        "We also need to perform some exploratory data analysis based on the vocabulary of the Human/AI generated text. However, before that we will need to lowercase, remove punctuations and tokenize. So lets do the preprocessing first before coming back to analyze the vocabulary"
      ],
      "metadata": {
        "id": "dmkCa1NxNcMX"
      }
    },
    {
      "cell_type": "markdown",
      "source": [
        "## Preprocessing Pipeline"
      ],
      "metadata": {
        "id": "X6l6Q13jOvUv"
      }
    },
    {
      "cell_type": "code",
      "source": [
        "stop_words = set(stopwords.words('english'))\n",
        "lemmatizer = WordNetLemmatizer()\n",
        "\n",
        "def preprocess_text(text):\n",
        "    text = text.lower()\n",
        "    tokens = word_tokenize(text)\n",
        "    tokens = [t for t in tokens if t not in stop_words and t not in string.punctuation]\n",
        "    tokens = [lemmatizer.lemmatize(t) for t in tokens]\n",
        "    return \" \".join(tokens)"
      ],
      "metadata": {
        "id": "yTkvLxAUM5zg"
      },
      "execution_count": 9,
      "outputs": []
    },
    {
      "cell_type": "code",
      "source": [
        "# Applying the preprocessing on the raw dataset\n",
        "\n",
        "df_toProcess = pd.read_csv('/content/drive/MyDrive/Colab Notebooks/AI_Human.csv')\n",
        "\n",
        "print(\"Applying preprocessing to the 'text' column...\")\n",
        "# Uncomment the line below to apply preprocessing again!\n",
        "# df_toProcess['processed_text'] = df_toProcess['text'].apply(preprocess_text)\n",
        "print(\"Preprocessing complete. A new column 'processed_text' has been added.\")"
      ],
      "metadata": {
        "colab": {
          "base_uri": "https://localhost:8080/",
          "height": 0
        },
        "id": "MPGiKucLPC2S",
        "outputId": "f6137faf-623e-461a-a36a-6b4e60847909"
      },
      "execution_count": 10,
      "outputs": [
        {
          "output_type": "stream",
          "name": "stdout",
          "text": [
            "Applying preprocessing to the 'text' column...\n",
            "Preprocessing complete. A new column 'processed_text' has been added.\n"
          ]
        }
      ]
    },
    {
      "cell_type": "code",
      "source": [
        "# Uncomment the entire cell to drop the text column before saving again if applying preprocessing again\n",
        "\n",
        "# # Dropping the 'text' column from df_toProcess before saving the preprocessed data\n",
        "\n",
        "# if 'text' in df_toProcess.columns:\n",
        "#     df_toProcess = df_toProcess.drop(columns=['text'])\n",
        "#     print(\"'text' column dropped successfully.\")\n",
        "# else:\n",
        "#     print(\"No 'text' column found in df_processed.\")"
      ],
      "metadata": {
        "id": "mkmDoUolbb0u"
      },
      "execution_count": 11,
      "outputs": []
    },
    {
      "cell_type": "code",
      "source": [
        "# Saving the preprocessed file for further use\n",
        "\n",
        "output_file_path = '/content/drive/MyDrive/Colab Notebooks/AI_Human_processed.csv'\n",
        "\n",
        "# Uncomment the line below to save the newly preprocessed file on drive\n",
        "# df_toProcess.to_csv(output_file_path, index=False)\n",
        "print(f\"Processed DataFrame saved successfully to: {output_file_path}\")"
      ],
      "metadata": {
        "colab": {
          "base_uri": "https://localhost:8080/",
          "height": 0
        },
        "id": "FqrpYw7gPaXy",
        "outputId": "a4014be5-00e9-4bbb-df8b-cb1be5199cce"
      },
      "execution_count": 12,
      "outputs": [
        {
          "output_type": "stream",
          "name": "stdout",
          "text": [
            "Processed DataFrame saved successfully to: /content/drive/MyDrive/Colab Notebooks/AI_Human_processed.csv\n"
          ]
        }
      ]
    },
    {
      "cell_type": "markdown",
      "source": [
        "## Exploratory Data Analysis of vocabulary on preprocessed data"
      ],
      "metadata": {
        "id": "7RA35wjhReVW"
      }
    },
    {
      "cell_type": "code",
      "source": [
        "# Code to load the preprocessed file\n",
        "\n",
        "from google.colab import drive\n",
        "drive.mount('/content/drive')\n",
        "\n",
        "df_processed = pd.read_csv('/content/drive/MyDrive/Colab Notebooks/AI_Human_processed.csv')\n",
        "\n",
        "df_processed.head()"
      ],
      "metadata": {
        "colab": {
          "base_uri": "https://localhost:8080/",
          "height": 224
        },
        "id": "jFDMzdjaR6dG",
        "outputId": "95e0bff7-86a4-4257-e413-b39abf376963"
      },
      "execution_count": 3,
      "outputs": [
        {
          "output_type": "stream",
          "name": "stdout",
          "text": [
            "Drive already mounted at /content/drive; to attempt to forcibly remount, call drive.mount(\"/content/drive\", force_remount=True).\n"
          ]
        },
        {
          "output_type": "execute_result",
          "data": {
            "text/plain": [
              "   generated                                     processed_text\n",
              "0        0.0  car car around since became famous 1900s henry...\n",
              "1        0.0  transportation large necessity country worldwi...\n",
              "2        0.0  `` america 's love affair 's vehicle seems coo...\n",
              "3        0.0  often ride car drive one motor vehicle work st...\n",
              "4        0.0  car wonderful thing perhaps one world greatest..."
            ],
            "text/html": [
              "\n",
              "  <div id=\"df-83da208d-43ca-4b98-a1b8-b699286df7be\" class=\"colab-df-container\">\n",
              "    <div>\n",
              "<style scoped>\n",
              "    .dataframe tbody tr th:only-of-type {\n",
              "        vertical-align: middle;\n",
              "    }\n",
              "\n",
              "    .dataframe tbody tr th {\n",
              "        vertical-align: top;\n",
              "    }\n",
              "\n",
              "    .dataframe thead th {\n",
              "        text-align: right;\n",
              "    }\n",
              "</style>\n",
              "<table border=\"1\" class=\"dataframe\">\n",
              "  <thead>\n",
              "    <tr style=\"text-align: right;\">\n",
              "      <th></th>\n",
              "      <th>generated</th>\n",
              "      <th>processed_text</th>\n",
              "    </tr>\n",
              "  </thead>\n",
              "  <tbody>\n",
              "    <tr>\n",
              "      <th>0</th>\n",
              "      <td>0.0</td>\n",
              "      <td>car car around since became famous 1900s henry...</td>\n",
              "    </tr>\n",
              "    <tr>\n",
              "      <th>1</th>\n",
              "      <td>0.0</td>\n",
              "      <td>transportation large necessity country worldwi...</td>\n",
              "    </tr>\n",
              "    <tr>\n",
              "      <th>2</th>\n",
              "      <td>0.0</td>\n",
              "      <td>`` america 's love affair 's vehicle seems coo...</td>\n",
              "    </tr>\n",
              "    <tr>\n",
              "      <th>3</th>\n",
              "      <td>0.0</td>\n",
              "      <td>often ride car drive one motor vehicle work st...</td>\n",
              "    </tr>\n",
              "    <tr>\n",
              "      <th>4</th>\n",
              "      <td>0.0</td>\n",
              "      <td>car wonderful thing perhaps one world greatest...</td>\n",
              "    </tr>\n",
              "  </tbody>\n",
              "</table>\n",
              "</div>\n",
              "    <div class=\"colab-df-buttons\">\n",
              "\n",
              "  <div class=\"colab-df-container\">\n",
              "    <button class=\"colab-df-convert\" onclick=\"convertToInteractive('df-83da208d-43ca-4b98-a1b8-b699286df7be')\"\n",
              "            title=\"Convert this dataframe to an interactive table.\"\n",
              "            style=\"display:none;\">\n",
              "\n",
              "  <svg xmlns=\"http://www.w3.org/2000/svg\" height=\"24px\" viewBox=\"0 -960 960 960\">\n",
              "    <path d=\"M120-120v-720h720v720H120Zm60-500h600v-160H180v160Zm220 220h160v-160H400v160Zm0 220h160v-160H400v160ZM180-400h160v-160H180v160Zm440 0h160v-160H620v160ZM180-180h160v-160H180v160Zm440 0h160v-160H620v160Z\"/>\n",
              "  </svg>\n",
              "    </button>\n",
              "\n",
              "  <style>\n",
              "    .colab-df-container {\n",
              "      display:flex;\n",
              "      gap: 12px;\n",
              "    }\n",
              "\n",
              "    .colab-df-convert {\n",
              "      background-color: #E8F0FE;\n",
              "      border: none;\n",
              "      border-radius: 50%;\n",
              "      cursor: pointer;\n",
              "      display: none;\n",
              "      fill: #1967D2;\n",
              "      height: 32px;\n",
              "      padding: 0 0 0 0;\n",
              "      width: 32px;\n",
              "    }\n",
              "\n",
              "    .colab-df-convert:hover {\n",
              "      background-color: #E2EBFA;\n",
              "      box-shadow: 0px 1px 2px rgba(60, 64, 67, 0.3), 0px 1px 3px 1px rgba(60, 64, 67, 0.15);\n",
              "      fill: #174EA6;\n",
              "    }\n",
              "\n",
              "    .colab-df-buttons div {\n",
              "      margin-bottom: 4px;\n",
              "    }\n",
              "\n",
              "    [theme=dark] .colab-df-convert {\n",
              "      background-color: #3B4455;\n",
              "      fill: #D2E3FC;\n",
              "    }\n",
              "\n",
              "    [theme=dark] .colab-df-convert:hover {\n",
              "      background-color: #434B5C;\n",
              "      box-shadow: 0px 1px 3px 1px rgba(0, 0, 0, 0.15);\n",
              "      filter: drop-shadow(0px 1px 2px rgba(0, 0, 0, 0.3));\n",
              "      fill: #FFFFFF;\n",
              "    }\n",
              "  </style>\n",
              "\n",
              "    <script>\n",
              "      const buttonEl =\n",
              "        document.querySelector('#df-83da208d-43ca-4b98-a1b8-b699286df7be button.colab-df-convert');\n",
              "      buttonEl.style.display =\n",
              "        google.colab.kernel.accessAllowed ? 'block' : 'none';\n",
              "\n",
              "      async function convertToInteractive(key) {\n",
              "        const element = document.querySelector('#df-83da208d-43ca-4b98-a1b8-b699286df7be');\n",
              "        const dataTable =\n",
              "          await google.colab.kernel.invokeFunction('convertToInteractive',\n",
              "                                                    [key], {});\n",
              "        if (!dataTable) return;\n",
              "\n",
              "        const docLinkHtml = 'Like what you see? Visit the ' +\n",
              "          '<a target=\"_blank\" href=https://colab.research.google.com/notebooks/data_table.ipynb>data table notebook</a>'\n",
              "          + ' to learn more about interactive tables.';\n",
              "        element.innerHTML = '';\n",
              "        dataTable['output_type'] = 'display_data';\n",
              "        await google.colab.output.renderOutput(dataTable, element);\n",
              "        const docLink = document.createElement('div');\n",
              "        docLink.innerHTML = docLinkHtml;\n",
              "        element.appendChild(docLink);\n",
              "      }\n",
              "    </script>\n",
              "  </div>\n",
              "\n",
              "\n",
              "    <div id=\"df-810fe711-0ee9-4eac-bca3-09894499f703\">\n",
              "      <button class=\"colab-df-quickchart\" onclick=\"quickchart('df-810fe711-0ee9-4eac-bca3-09894499f703')\"\n",
              "                title=\"Suggest charts\"\n",
              "                style=\"display:none;\">\n",
              "\n",
              "<svg xmlns=\"http://www.w3.org/2000/svg\" height=\"24px\"viewBox=\"0 0 24 24\"\n",
              "     width=\"24px\">\n",
              "    <g>\n",
              "        <path d=\"M19 3H5c-1.1 0-2 .9-2 2v14c0 1.1.9 2 2 2h14c1.1 0 2-.9 2-2V5c0-1.1-.9-2-2-2zM9 17H7v-7h2v7zm4 0h-2V7h2v10zm4 0h-2v-4h2v4z\"/>\n",
              "    </g>\n",
              "</svg>\n",
              "      </button>\n",
              "\n",
              "<style>\n",
              "  .colab-df-quickchart {\n",
              "      --bg-color: #E8F0FE;\n",
              "      --fill-color: #1967D2;\n",
              "      --hover-bg-color: #E2EBFA;\n",
              "      --hover-fill-color: #174EA6;\n",
              "      --disabled-fill-color: #AAA;\n",
              "      --disabled-bg-color: #DDD;\n",
              "  }\n",
              "\n",
              "  [theme=dark] .colab-df-quickchart {\n",
              "      --bg-color: #3B4455;\n",
              "      --fill-color: #D2E3FC;\n",
              "      --hover-bg-color: #434B5C;\n",
              "      --hover-fill-color: #FFFFFF;\n",
              "      --disabled-bg-color: #3B4455;\n",
              "      --disabled-fill-color: #666;\n",
              "  }\n",
              "\n",
              "  .colab-df-quickchart {\n",
              "    background-color: var(--bg-color);\n",
              "    border: none;\n",
              "    border-radius: 50%;\n",
              "    cursor: pointer;\n",
              "    display: none;\n",
              "    fill: var(--fill-color);\n",
              "    height: 32px;\n",
              "    padding: 0;\n",
              "    width: 32px;\n",
              "  }\n",
              "\n",
              "  .colab-df-quickchart:hover {\n",
              "    background-color: var(--hover-bg-color);\n",
              "    box-shadow: 0 1px 2px rgba(60, 64, 67, 0.3), 0 1px 3px 1px rgba(60, 64, 67, 0.15);\n",
              "    fill: var(--button-hover-fill-color);\n",
              "  }\n",
              "\n",
              "  .colab-df-quickchart-complete:disabled,\n",
              "  .colab-df-quickchart-complete:disabled:hover {\n",
              "    background-color: var(--disabled-bg-color);\n",
              "    fill: var(--disabled-fill-color);\n",
              "    box-shadow: none;\n",
              "  }\n",
              "\n",
              "  .colab-df-spinner {\n",
              "    border: 2px solid var(--fill-color);\n",
              "    border-color: transparent;\n",
              "    border-bottom-color: var(--fill-color);\n",
              "    animation:\n",
              "      spin 1s steps(1) infinite;\n",
              "  }\n",
              "\n",
              "  @keyframes spin {\n",
              "    0% {\n",
              "      border-color: transparent;\n",
              "      border-bottom-color: var(--fill-color);\n",
              "      border-left-color: var(--fill-color);\n",
              "    }\n",
              "    20% {\n",
              "      border-color: transparent;\n",
              "      border-left-color: var(--fill-color);\n",
              "      border-top-color: var(--fill-color);\n",
              "    }\n",
              "    30% {\n",
              "      border-color: transparent;\n",
              "      border-left-color: var(--fill-color);\n",
              "      border-top-color: var(--fill-color);\n",
              "      border-right-color: var(--fill-color);\n",
              "    }\n",
              "    40% {\n",
              "      border-color: transparent;\n",
              "      border-right-color: var(--fill-color);\n",
              "      border-top-color: var(--fill-color);\n",
              "    }\n",
              "    60% {\n",
              "      border-color: transparent;\n",
              "      border-right-color: var(--fill-color);\n",
              "    }\n",
              "    80% {\n",
              "      border-color: transparent;\n",
              "      border-right-color: var(--fill-color);\n",
              "      border-bottom-color: var(--fill-color);\n",
              "    }\n",
              "    90% {\n",
              "      border-color: transparent;\n",
              "      border-bottom-color: var(--fill-color);\n",
              "    }\n",
              "  }\n",
              "</style>\n",
              "\n",
              "      <script>\n",
              "        async function quickchart(key) {\n",
              "          const quickchartButtonEl =\n",
              "            document.querySelector('#' + key + ' button');\n",
              "          quickchartButtonEl.disabled = true;  // To prevent multiple clicks.\n",
              "          quickchartButtonEl.classList.add('colab-df-spinner');\n",
              "          try {\n",
              "            const charts = await google.colab.kernel.invokeFunction(\n",
              "                'suggestCharts', [key], {});\n",
              "          } catch (error) {\n",
              "            console.error('Error during call to suggestCharts:', error);\n",
              "          }\n",
              "          quickchartButtonEl.classList.remove('colab-df-spinner');\n",
              "          quickchartButtonEl.classList.add('colab-df-quickchart-complete');\n",
              "        }\n",
              "        (() => {\n",
              "          let quickchartButtonEl =\n",
              "            document.querySelector('#df-810fe711-0ee9-4eac-bca3-09894499f703 button');\n",
              "          quickchartButtonEl.style.display =\n",
              "            google.colab.kernel.accessAllowed ? 'block' : 'none';\n",
              "        })();\n",
              "      </script>\n",
              "    </div>\n",
              "\n",
              "    </div>\n",
              "  </div>\n"
            ],
            "application/vnd.google.colaboratory.intrinsic+json": {
              "type": "dataframe",
              "variable_name": "df_processed"
            }
          },
          "metadata": {},
          "execution_count": 3
        }
      ]
    },
    {
      "cell_type": "code",
      "source": [
        "# Step 1: Identify rows with NaN or empty strings in df_processed\n",
        "empty_rows = df_processed.isnull().any(axis=1) | (df_processed == '').any(axis=1)\n",
        "num_empty_rows = empty_rows.sum()\n",
        "print(f\"Number of empty rows: {num_empty_rows}\")\n",
        "print(f\"\\ndf_processed shape: {df_processed.shape}\")\n",
        "\n",
        "# Step 2: Show and drop those rows from df_processed\n",
        "if num_empty_rows > 0:\n",
        "    print(\"Problematic rows before dropping:\")\n",
        "    print(df_processed[empty_rows])\n",
        "\n",
        "    # Drop and reset index\n",
        "    df_processed = df_processed[~empty_rows].reset_index(drop=True)\n",
        "    print(f\"\\nCleaned df_processed. New shape: {df_processed.shape}\")\n",
        "else:\n",
        "    print(\"No empty rows found in df_processed.\")\n"
      ],
      "metadata": {
        "colab": {
          "base_uri": "https://localhost:8080/",
          "height": 0
        },
        "id": "sM4XqF4mRjBr",
        "outputId": "26a0dd5a-9a9f-40e7-c03a-1cfb9dd65850"
      },
      "execution_count": 14,
      "outputs": [
        {
          "output_type": "stream",
          "name": "stdout",
          "text": [
            "Number of empty rows: 5\n",
            "\n",
            "df_processed shape: (487235, 2)\n",
            "Problematic rows before dropping:\n",
            "       generated processed_text\n",
            "2384         1.0            NaN\n",
            "77765        1.0            NaN\n",
            "78110        1.0            NaN\n",
            "78298        1.0            NaN\n",
            "81000        1.0            NaN\n",
            "\n",
            "Cleaned df_processed. New shape: (487230, 2)\n"
          ]
        }
      ]
    },
    {
      "cell_type": "markdown",
      "source": [
        "This is probably due to preprocessing. For simplicity we will just remove the problametic rows for now."
      ],
      "metadata": {
        "id": "5FEnXQ3MZBaz"
      }
    },
    {
      "cell_type": "markdown",
      "source": [
        "### Here we will do the TF-IDF vectorization first so that we can do Vocabulary Data analysis using TFIDF and then we will vectorize again without max_feature=5000 for model training"
      ],
      "metadata": {
        "id": "eRWWINmGmWE6"
      }
    },
    {
      "cell_type": "code",
      "source": [
        "# TF-IDF Feature Extraction\n",
        "\n",
        "from sklearn.feature_extraction.text import TfidfVectorizer\n",
        "\n",
        "# Using 'processed_text' column for vectorization\n",
        "vectorizer = TfidfVectorizer(max_features=5000)\n",
        "\n",
        "A = vectorizer.fit_transform(df_processed['processed_text'])\n",
        "b = df_processed['generated']\n",
        "\n",
        "print(\"TF-IDF matrix shape:\", A.shape)\n"
      ],
      "metadata": {
        "id": "zOhNtjYwUXFf",
        "colab": {
          "base_uri": "https://localhost:8080/",
          "height": 0
        },
        "outputId": "58d94af4-c2f1-4126-ccc9-6326d22958d8"
      },
      "execution_count": 15,
      "outputs": [
        {
          "output_type": "stream",
          "name": "stdout",
          "text": [
            "TF-IDF matrix shape: (487230, 5000)\n"
          ]
        }
      ]
    },
    {
      "cell_type": "code",
      "source": [
        "# Get feature names\n",
        "feature_names = vectorizer.get_feature_names_out()\n",
        "\n",
        "# Create masks\n",
        "human_mask = df_processed['generated'] == 0\n",
        "ai_mask = df_processed['generated'] == 1\n",
        "\n",
        "# Use .values to ensure compatibility with sparse matrix indexing\n",
        "human_tfidf_avg = A[human_mask.values].mean(axis=0).A1\n",
        "ai_tfidf_avg = A[ai_mask.values].mean(axis=0).A1\n",
        "\n",
        "# Create top words DataFrames\n",
        "human_top_words = pd.DataFrame({\n",
        "    'word': feature_names,\n",
        "    'tfidf': human_tfidf_avg\n",
        "}).sort_values(by='tfidf', ascending=False).head(10)\n",
        "\n",
        "ai_top_words = pd.DataFrame({\n",
        "    'word': feature_names,\n",
        "    'tfidf': ai_tfidf_avg\n",
        "}).sort_values(by='tfidf', ascending=False).head(10)\n",
        "\n",
        "print(\"Top 10 TF-IDF words in human-generated texts:\")\n",
        "print(human_top_words)\n",
        "\n",
        "print(\"\\nTop 10 TF-IDF words in AI-generated texts:\")\n",
        "print(ai_top_words)\n"
      ],
      "metadata": {
        "colab": {
          "base_uri": "https://localhost:8080/",
          "height": 0
        },
        "id": "jx1iZyvdkoX2",
        "outputId": "8e1b150a-7368-4c21-c295-61402daec9cd"
      },
      "execution_count": 16,
      "outputs": [
        {
          "output_type": "stream",
          "name": "stdout",
          "text": [
            "Top 10 TF-IDF words in human-generated texts:\n",
            "           word     tfidf\n",
            "768         car  0.080914\n",
            "4265    student  0.074149\n",
            "4950      would  0.049274\n",
            "3305     people  0.045718\n",
            "3912     school  0.043886\n",
            "4807       vote  0.041355\n",
            "1563  electoral  0.036167\n",
            "4760      venus  0.034001\n",
            "3338      phone  0.031169\n",
            "1128      could  0.029981\n",
            "\n",
            "Top 10 TF-IDF words in AI-generated texts:\n",
            "           word     tfidf\n",
            "4265    student  0.055460\n",
            "768         car  0.043421\n",
            "1563  electoral  0.036258\n",
            "947     college  0.031461\n",
            "4807       vote  0.025852\n",
            "3305     people  0.024928\n",
            "2235       help  0.024233\n",
            "2711       like  0.024108\n",
            "4209      state  0.024108\n",
            "3912     school  0.024092\n"
          ]
        }
      ]
    },
    {
      "cell_type": "markdown",
      "source": [
        "## Implementing baseline Model"
      ],
      "metadata": {
        "id": "51JvBJh9USNc"
      }
    },
    {
      "cell_type": "code",
      "source": [
        "# TF-IDF Feature Extraction\n",
        "\n",
        "from sklearn.feature_extraction.text import TfidfVectorizer\n",
        "\n",
        "# Using 'processed_text' column for vectorization\n",
        "vectorizer = TfidfVectorizer()\n",
        "\n",
        "X = vectorizer.fit_transform(df_processed['processed_text'])\n",
        "y = df_processed['generated']\n",
        "\n",
        "print(\"TF-IDF matrix shape:\", X.shape)\n"
      ],
      "metadata": {
        "colab": {
          "base_uri": "https://localhost:8080/",
          "height": 0
        },
        "id": "soaNclZKoriA",
        "outputId": "ef119b84-9f5b-42e7-89f9-d2b095c2a286"
      },
      "execution_count": 17,
      "outputs": [
        {
          "output_type": "stream",
          "name": "stdout",
          "text": [
            "TF-IDF matrix shape: (487230, 250593)\n"
          ]
        }
      ]
    },
    {
      "cell_type": "code",
      "source": [
        "# Train-Test split\n",
        "\n",
        "from sklearn.model_selection import train_test_split\n",
        "\n",
        "X_train, X_test, y_train, y_test = train_test_split(\n",
        "    X, y, test_size=0.2, random_state= None, stratify=y\n",
        ")\n",
        "\n",
        "print(\"Training size:\", X_train.shape)\n",
        "print(\"Test size:\", X_test.shape)"
      ],
      "metadata": {
        "id": "YWKR-bKtWdP6",
        "colab": {
          "base_uri": "https://localhost:8080/",
          "height": 0
        },
        "outputId": "2f3f8399-5aa3-4b51-c2cb-29adb9f42f06"
      },
      "execution_count": 18,
      "outputs": [
        {
          "output_type": "stream",
          "name": "stdout",
          "text": [
            "Training size: (389784, 250593)\n",
            "Test size: (97446, 250593)\n"
          ]
        }
      ]
    },
    {
      "cell_type": "code",
      "source": [
        "from sklearn.linear_model import LogisticRegression\n",
        "from sklearn.naive_bayes import MultinomialNB\n",
        "from sklearn.metrics import classification_report, accuracy_score\n",
        "\n",
        "# Logistic Regression\n",
        "lr = LogisticRegression(max_iter=1000)\n",
        "lr.fit(X_train, y_train)\n",
        "y_pred_lr = lr.predict(X_test)\n",
        "\n",
        "# Naive Bayes\n",
        "nb = MultinomialNB()\n",
        "nb.fit(X_train, y_train)\n",
        "y_pred_nb = nb.predict(X_test)"
      ],
      "metadata": {
        "id": "qUCZA_MEWp3r"
      },
      "execution_count": 19,
      "outputs": []
    },
    {
      "cell_type": "code",
      "source": [
        "print(\"Logistic Regression Performance:\")\n",
        "print(classification_report(y_test, y_pred_lr))\n",
        "\n",
        "print(\"\\nNaive Bayes Performance:\")\n",
        "print(classification_report(y_test, y_pred_nb))\n",
        "\n",
        "print(\"\\nBaseline Accuracy Scores:\")\n",
        "print(\"Logistic Regression:\", accuracy_score(y_test, y_pred_lr))\n",
        "print(\"Naive Bayes:\", accuracy_score(y_test, y_pred_nb))"
      ],
      "metadata": {
        "id": "WNieJM5UWtpX",
        "colab": {
          "base_uri": "https://localhost:8080/",
          "height": 0
        },
        "outputId": "048a5f24-47fb-4f17-b7a4-79d76e6ff04c"
      },
      "execution_count": 20,
      "outputs": [
        {
          "output_type": "stream",
          "name": "stdout",
          "text": [
            "Logistic Regression Performance:\n",
            "              precision    recall  f1-score   support\n",
            "\n",
            "         0.0       0.99      1.00      0.99     61159\n",
            "         1.0       0.99      0.99      0.99     36287\n",
            "\n",
            "    accuracy                           0.99     97446\n",
            "   macro avg       0.99      0.99      0.99     97446\n",
            "weighted avg       0.99      0.99      0.99     97446\n",
            "\n",
            "\n",
            "Naive Bayes Performance:\n",
            "              precision    recall  f1-score   support\n",
            "\n",
            "         0.0       0.94      0.99      0.96     61159\n",
            "         1.0       0.98      0.89      0.93     36287\n",
            "\n",
            "    accuracy                           0.95     97446\n",
            "   macro avg       0.96      0.94      0.95     97446\n",
            "weighted avg       0.95      0.95      0.95     97446\n",
            "\n",
            "\n",
            "Baseline Accuracy Scores:\n",
            "Logistic Regression: 0.9928986310366767\n",
            "Naive Bayes: 0.9517065862118507\n"
          ]
        }
      ]
    },
    {
      "cell_type": "markdown",
      "source": [
        "As we can see we got a very high Accuracy and precision. But we suspect that the model might me biasing on the basis of text lenght. To avoid model biasing based on text lenght lets try to keep only the texts which have same lenght and also balance out the classes."
      ],
      "metadata": {
        "id": "qkP6EoQgWwrP"
      }
    },
    {
      "cell_type": "markdown",
      "source": [
        "# Making it harder"
      ],
      "metadata": {
        "id": "_BDAvs38W03B"
      }
    },
    {
      "cell_type": "markdown",
      "source": [
        "## Now lets balance out the classes and only gather the texts that have equal length"
      ],
      "metadata": {
        "id": "Invwbe4dW7qY"
      }
    },
    {
      "cell_type": "code",
      "source": [
        "from collections import Counter\n",
        "\n",
        "# add word count column in the processed dataframe\n",
        "df_processed['word_count'] = df_processed['processed_text'].astype(str).apply(lambda x: len(x.split()))\n",
        "\n",
        "# separating human and AI texts\n",
        "human_df = df_processed[df_processed['generated'] == 0]\n",
        "ai_df = df_processed[df_processed['generated'] == 1]\n",
        "\n",
        "# finding common word counts\n",
        "human_counts = Counter(human_df['word_count'])\n",
        "ai_counts = Counter(ai_df['word_count'])\n",
        "\n",
        "# only keeping word counts that exist in both and have at least one sample each\n",
        "common_lengths = set(human_counts.keys()).intersection(ai_counts.keys())\n",
        "\n",
        "# balancing both datasets based on minimum counts per common word length\n",
        "balanced_rows = []\n",
        "\n",
        "for wc in common_lengths:\n",
        "    min_count = min(human_counts[wc], ai_counts[wc])\n",
        "\n",
        "    # Sampling equal number from both classes\n",
        "    human_subset = human_df[human_df['word_count'] == wc].sample(n=min_count, random_state=42)\n",
        "    ai_subset = ai_df[ai_df['word_count'] == wc].sample(n=min_count, random_state=42)\n",
        "\n",
        "    balanced_rows.extend([human_subset, ai_subset])\n",
        "\n",
        "# putting it all together\n",
        "balanced_df = pd.concat(balanced_rows).reset_index(drop=True)\n",
        "\n",
        "print(\"Balanced dataset shape:\", balanced_df.shape)\n",
        "print(balanced_df['generated'].value_counts())\n"
      ],
      "metadata": {
        "id": "Q3BspEB_Wznp",
        "colab": {
          "base_uri": "https://localhost:8080/",
          "height": 0
        },
        "outputId": "ca9b1a0c-6479-44f3-f32b-c5978d9518ff"
      },
      "execution_count": 5,
      "outputs": [
        {
          "output_type": "stream",
          "name": "stdout",
          "text": [
            "Balanced dataset shape: (352322, 3)\n",
            "generated\n",
            "0.0    176161\n",
            "1.0    176161\n",
            "Name: count, dtype: int64\n"
          ]
        }
      ]
    },
    {
      "cell_type": "code",
      "source": [
        "# Showing class distribution again:\n",
        "\n",
        "plt.figure(figsize=(6,4))\n",
        "sns.countplot(data=balanced_df, x='generated')\n",
        "plt.title(\"Class Distribution (0=Human, 1=AI)\")\n",
        "plt.show()"
      ],
      "metadata": {
        "id": "PU4_3VFwgbgc",
        "colab": {
          "base_uri": "https://localhost:8080/",
          "height": 410
        },
        "outputId": "601aa1df-7152-4e07-83f1-bc319e40b446"
      },
      "execution_count": 7,
      "outputs": [
        {
          "output_type": "display_data",
          "data": {
            "text/plain": [
              "<Figure size 600x400 with 1 Axes>"
            ],
            "image/png": "[encoded data removed]"
          },
          "metadata": {}
        }
      ]
    },
    {
      "cell_type": "markdown",
      "source": [
        "Classes are no balanced"
      ],
      "metadata": {
        "id": "7ZKrOxi30_ob"
      }
    },
    {
      "cell_type": "code",
      "source": [
        "# showing the distribution of Text Length by Class (Word Count) again:\n",
        "\n",
        "human_text_lengths = balanced_df[balanced_df['generated'] == 0]['word_count']\n",
        "ai_text_lengths = balanced_df[balanced_df['generated'] == 1]['word_count']\n",
        "\n",
        "plt.figure(figsize=(10, 6))\n",
        "\n",
        "# Plot KDE for human-generated texts\n",
        "sns.kdeplot(human_text_lengths, label='Human (0)', fill=True, color='blue', common_norm=False)\n",
        "\n",
        "# Plot KDE for AI-generated texts\n",
        "sns.kdeplot(ai_text_lengths, label='AI-generated (1)', fill=True, color='orange', common_norm=False)\n",
        "\n",
        "plt.title(\"Distribution of Text Length by Class (Word Count)\")\n",
        "plt.xlabel(\"Word Count\")\n",
        "plt.ylabel(\"Density\")\n",
        "plt.legend()\n",
        "plt.show()"
      ],
      "metadata": {
        "id": "m8ryrSQPhBRk",
        "colab": {
          "base_uri": "https://localhost:8080/",
          "height": 564
        },
        "outputId": "a173317b-c207-4aae-c070-1d83cc06e3fa"
      },
      "execution_count": 8,
      "outputs": [
        {
          "output_type": "display_data",
          "data": {
            "text/plain": [
              "<Figure size 1000x600 with 1 Axes>"
            ],
            "image/png": "[encoded data removed]"
          },
          "metadata": {}
        }
      ]
    },
    {
      "cell_type": "markdown",
      "source": [
        "The Distibution of Text Length by class is also equal. The model should not be biasing any more on the basis of Text lenght."
      ],
      "metadata": {
        "id": "hTlo89hT1C37"
      }
    },
    {
      "cell_type": "markdown",
      "source": [
        "Now that this is equal, lets try again"
      ],
      "metadata": {
        "id": "6I1kwTKDuJ8D"
      }
    },
    {
      "cell_type": "code",
      "source": [
        "# TF-IDF Feature Extraction\n",
        "\n",
        "from sklearn.feature_extraction.text import TfidfVectorizer\n",
        "\n",
        "# Using 'processed_text' column for vectorization\n",
        "vectorizer = TfidfVectorizer()\n",
        "\n",
        "X = vectorizer.fit_transform(balanced_df['processed_text'])\n",
        "y = df_processed['generated']\n",
        "\n",
        "print(\"TF-IDF matrix shape:\", X.shape)\n"
      ],
      "metadata": {
        "colab": {
          "base_uri": "https://localhost:8080/",
          "height": 0
        },
        "id": "apP9UD2fuMHl",
        "outputId": "9949a7d2-1b71-4e05-d5ac-3264eb8e8e99"
      },
      "execution_count": 9,
      "outputs": [
        {
          "output_type": "stream",
          "name": "stdout",
          "text": [
            "TF-IDF matrix shape: (352322, 212213)\n"
          ]
        }
      ]
    },
    {
      "cell_type": "code",
      "source": [
        "# Train-Test split\n",
        "\n",
        "from sklearn.model_selection import train_test_split\n",
        "\n",
        "X_train, X_test, y_train, y_test = train_test_split(\n",
        "    X, balanced_df['generated'], test_size=0.2, random_state= 42, stratify=balanced_df['generated']\n",
        ")\n",
        "\n",
        "print(\"Training size:\", X_train.shape)\n",
        "print(\"Test size:\", X_test.shape)"
      ],
      "metadata": {
        "colab": {
          "base_uri": "https://localhost:8080/",
          "height": 0
        },
        "id": "OXezt-_buPSq",
        "outputId": "8fc66441-cbfd-458a-b93c-1624c5c62fd7"
      },
      "execution_count": 10,
      "outputs": [
        {
          "output_type": "stream",
          "name": "stdout",
          "text": [
            "Training size: (281857, 212213)\n",
            "Test size: (70465, 212213)\n"
          ]
        }
      ]
    },
    {
      "cell_type": "code",
      "source": [
        "from sklearn.linear_model import LogisticRegression\n",
        "from sklearn.naive_bayes import MultinomialNB\n",
        "from sklearn.metrics import classification_report, accuracy_score\n",
        "\n",
        "# Logistic Regression\n",
        "lr = LogisticRegression(max_iter=1000)\n",
        "lr.fit(X_train, y_train)\n",
        "y_pred_lr = lr.predict(X_test)\n",
        "\n",
        "# Naive Bayes\n",
        "nb = MultinomialNB()\n",
        "nb.fit(X_train, y_train)\n",
        "y_pred_nb = nb.predict(X_test)"
      ],
      "metadata": {
        "id": "aBjW-DeVuRID"
      },
      "execution_count": 11,
      "outputs": []
    },
    {
      "cell_type": "code",
      "source": [
        "print(\"Logistic Regression Performance:\")\n",
        "print(classification_report(y_test, y_pred_lr))\n",
        "\n",
        "print(\"\\nNaive Bayes Performance:\")\n",
        "print(classification_report(y_test, y_pred_nb))\n",
        "\n",
        "print(\"\\nBaseline Accuracy Scores:\")\n",
        "print(\"Logistic Regression:\", accuracy_score(y_test, y_pred_lr))\n",
        "print(\"Naive Bayes:\", accuracy_score(y_test, y_pred_nb))"
      ],
      "metadata": {
        "colab": {
          "base_uri": "https://localhost:8080/",
          "height": 0
        },
        "id": "2hIEaWJnuSr8",
        "outputId": "a00a5a6c-e1b6-4cba-c2d6-d2d554f669f3"
      },
      "execution_count": 12,
      "outputs": [
        {
          "output_type": "stream",
          "name": "stdout",
          "text": [
            "Logistic Regression Performance:\n",
            "              precision    recall  f1-score   support\n",
            "\n",
            "         0.0       0.99      0.99      0.99     35233\n",
            "         1.0       0.99      0.99      0.99     35232\n",
            "\n",
            "    accuracy                           0.99     70465\n",
            "   macro avg       0.99      0.99      0.99     70465\n",
            "weighted avg       0.99      0.99      0.99     70465\n",
            "\n",
            "\n",
            "Naive Bayes Performance:\n",
            "              precision    recall  f1-score   support\n",
            "\n",
            "         0.0       0.95      0.97      0.96     35233\n",
            "         1.0       0.97      0.94      0.96     35232\n",
            "\n",
            "    accuracy                           0.96     70465\n",
            "   macro avg       0.96      0.96      0.96     70465\n",
            "weighted avg       0.96      0.96      0.96     70465\n",
            "\n",
            "\n",
            "Baseline Accuracy Scores:\n",
            "Logistic Regression: 0.9916838146597602\n",
            "Naive Bayes: 0.9565883772085433\n"
          ]
        }
      ]
    },
    {
      "cell_type": "markdown",
      "source": [
        "As we can see the Accuracy and Precision are still very high and interestingly almost same. This indicates that the model is infact not biasing, however, making sure of it was necessary."
      ],
      "metadata": {
        "id": "jTd2OtzX1NVc"
      }
    },
    {
      "cell_type": "markdown",
      "source": [
        "# SEA 820 Final Project – Project Plan (Week 2–3)"
      ],
      "metadata": {
        "id": "N008am2p1eEa"
      }
    },
    {
      "cell_type": "markdown",
      "source": [
        "**Project Title:** Detecting AI-Generated Text  \n",
        "**Team Members:** Mohammed Aeraf Khan, Madhur Saluja  \n",
        "**Duration:** Week 2 to Week 3  \n",
        "**Deliverables:** Fine-tuned Transformer model, performance comparison, error analysis, ethical discussion, final report, and presentation\n",
        "\n",
        "## Week 2 Goals – Model Development & Evaluation\n",
        "\n",
        "**Objective:** Fine-tune a Transformer model (DistilBERT) and compare it with the baseline (Logistic Regression and Naive Bayes).\n",
        "\n",
        "| Task | Member | Details |\n",
        "|---|---|---|\n",
        "| Load data using Hugging Face | Aeraf | Format `balanced_df` and split into train/test/validation sets |\n",
        "| Tokenize with DistilBERT | Aeraf | Use `AutoTokenizer` and apply preprocessing with `map()` pipeline |\n",
        "| Fine-tune DistilBERT | Madhur | Use Hugging Face `Trainer` API with tuned hyperparameters |\n",
        "| Evaluate Transformer model | Madhur | Calculate accuracy, precision, recall, F1-score; generate comparison |\n",
        "| Begin initial report documentation | Both | Start drafting experiment setup and recording early observations |\n",
        "\n",
        "## Week 3 Goals – Analysis, Reporting & Presentation\n",
        "\n",
        "**Objective:** Finalize analysis, documentation, and presentation of project outcomes.\n",
        "\n",
        "| Task | Member | Details |\n",
        "|---|---|---|\n",
        "| Error analysis | Aeraf | Examine wrongly classified examples and pattern itendification |\n",
        "| Ethical implications | Madhur | Discuss risks (e.g., bias, misuse) in the detection system |\n",
        "| Report writing | Both | Compile methodology, results, visualizations, and analysis |\n",
        "| Presentation prep | Both | Create 5–7 minute slide to summarize key project insights |\n",
        "| Code & repo cleanup | Aeraf | Finalize notebooks and write README for GitHub submission |\n",
        "\n",
        "## Milestones & Deadlines\n",
        "\n",
        "- **Baseline Model Completed** – Week 1  \n",
        "- **Transformer Fine-tuning & Evaluation** – _End of Week 2_  \n",
        "- **Final Report, Slides, and Code Submission** – _End of Week 3_\n"
      ],
      "metadata": {
        "id": "sOJali8Z1gT_"
      }
    }
  ]
}